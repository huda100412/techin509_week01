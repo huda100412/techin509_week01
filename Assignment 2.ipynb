{
 "cells": [
  {
   "cell_type": "markdown",
   "id": "c843ea9a-fd1d-4b70-9267-862f81ae9f82",
   "metadata": {},
   "source": [
    "# Type your name: Howlader Nazmul Huda"
   ]
  },
  {
   "cell_type": "markdown",
   "id": "23486c80",
   "metadata": {},
   "source": [
    "# Problem 1: XOR-based Encryption (5 points)\n",
    "In this problem, we will explore how to use Python to implement a simple XOR-based encryption with binary strings. This problem should provide you some conceptual understanding of message encryption.\n",
    "\n",
    "Hint: You can use `^` to implement bitwise XOR when applied to integers. Please test the following code snippet for `^` operator:\n",
    "\n",
    "```py\n",
    "# Example of XOR in Python\n",
    "a = 0\n",
    "b = 1\n",
    "result = a ^ b   # result will be 1\n",
    "```"
   ]
  },
  {
   "cell_type": "code",
   "execution_count": 5,
   "id": "167a0b06-2333-45e0-a2ee-b2210886b966",
   "metadata": {},
   "outputs": [
    {
     "name": "stdout",
     "output_type": "stream",
     "text": [
      "The first digits of original messsage and secrete key are 0 and 1, respectively.\n",
      "The first digit of encrypted messsage is 1.\n"
     ]
    }
   ],
   "source": [
    "original_message = \"010\"\n",
    "secret_key = \"110\"\n",
    "\n",
    "# Extract the first digits of original message and secret key using appropriate indices. Convert them to integer type.\n",
    "first_digit_orig_msg = original_message[0]\n",
    "first_digit_secret_key = secret_key[0]\n",
    "\n",
    "# Encrypt the first digit using XOR operation. Convert it to string type.\n",
    "first_digit_encrypt_msg = int(first_digit_orig_msg) ^ int(first_digit_secret_key)\n",
    "\n",
    "# Complete the print using appropriate formatting\n",
    "formatted_input = \"The first digits of original messsage and secrete key are {} and {}, respectively.\".format(first_digit_orig_msg, first_digit_secret_key)\n",
    "print(formatted_input)\n",
    "formatted_output = \"The first digit of encrypted messsage is {}.\".format(first_digit_encrypt_msg)\n",
    "print(formatted_output)"
   ]
  },
  {
   "cell_type": "code",
   "execution_count": 13,
   "id": "5a7a94ef-6304-447d-b024-76739aabc5f2",
   "metadata": {},
   "outputs": [
    {
     "name": "stdout",
     "output_type": "stream",
     "text": [
      "The second digits of original messsage and secrete key are 1 and 1, respectively.\n",
      "The second digit of encrypted messsage is 0.\n",
      "The third digits of original messsage and secrete key are 0 and 0, respectively.\n",
      "The third digit of encrypted messsage is 0.\n"
     ]
    }
   ],
   "source": [
    "# Complete the encryption of the rest two digits\n",
    "\n",
    "# extract the second digit using appropriate indices. Convert it to integer type\n",
    "second_digit_orig_msg = int(original_message[1])\n",
    "second_digit_secret_key = int(secret_key[1])\n",
    "\n",
    "# encrypt the first digit using XOR operation. Convert it to integer type.\n",
    "second_digit_encrypt_msg = int(second_digit_orig_msg) ^ int(second_digit_secret_key)\n",
    "\n",
    "# complete the print using appropriate formatting\n",
    "formatted_input = \"The second digits of original messsage and secrete key are {} and {}, respectively.\".format(second_digit_orig_msg, second_digit_secret_key)\n",
    "print(formatted_input)\n",
    "formatted_output = \"The second digit of encrypted messsage is {}.\".format(second_digit_encrypt_msg)\n",
    "print(formatted_output)\n",
    "\n",
    "# extract the second digit using appropriate indices. Convert it to integer type\n",
    "third_digit_orig_msg = int(original_message[2])\n",
    "third_digit_secret_key = int(secret_key[2])\n",
    "\n",
    "# encrypt the first digit using XOR operation. Convert it to integer type.\n",
    "third_digit_encrypt_msg = third_digit_orig_msg ^ third_digit_secret_key\n",
    "\n",
    "# complete the print using appropriate formatting\n",
    "formatted_input = \"The third digits of original messsage and secrete key are {} and {}, respectively.\".format(third_digit_orig_msg, third_digit_secret_key)\n",
    "print(formatted_input)\n",
    "formatted_output = \"The third digit of encrypted messsage is {}.\".format(third_digit_encrypt_msg)\n",
    "print(formatted_output)"
   ]
  },
  {
   "cell_type": "code",
   "execution_count": 14,
   "id": "5ea3a4d0-96e7-4e17-8d26-ceddd43090f3",
   "metadata": {},
   "outputs": [
    {
     "name": "stdout",
     "output_type": "stream",
     "text": [
      "The encrypted message is 100\n"
     ]
    }
   ],
   "source": [
    "# Convert each digit of encrypted message to a string, and concatenate them together into one string. \n",
    "# Print out the encrypted message using formatting\n",
    "encrypted_msg = str(first_digit_encrypt_msg) + str(second_digit_encrypt_msg) + str(third_digit_encrypt_msg)\n",
    "print(\"The encrypted message is {}\".format(encrypted_msg))"
   ]
  },
  {
   "cell_type": "markdown",
   "id": "d45d5524-f4b3-4b71-949c-c3962ddb559d",
   "metadata": {},
   "source": [
    "### Message Decryption\n",
    "\n",
    "We also need to decrypt the message to recover the original message from the sender. The decryption process works as follows:\n",
    "\n",
    "- The encrypted message and secret key go through a logical gate digit-wise. The logical gate outputs the decrypted message.\n",
    "- Our decryption uses the same secret key as encryption, and XOR gate.\n",
    "\n",
    "Based on what you have done, write a program to decrypt the message. Clearly print out your decrypted message with appropirate description."
   ]
  },
  {
   "cell_type": "code",
   "execution_count": 15,
   "id": "c0d2cb11-ab10-49f9-b7e0-1dff43713253",
   "metadata": {},
   "outputs": [
    {
     "name": "stdout",
     "output_type": "stream",
     "text": [
      "The decrypted message is 010\n"
     ]
    }
   ],
   "source": [
    "# Complete your code here.\n",
    "first_digit_decrypt_msg = first_digit_encrypt_msg ^ int(secret_key[0])\n",
    "second_digit_decrypt_msg = second_digit_encrypt_msg ^ int(secret_key[1])\n",
    "third_digit_decrypt_msg = third_digit_encrypt_msg ^ int(secret_key[2])\n",
    "\n",
    "# Concatenate decrypted digits\n",
    "decrypted_msg = str(first_digit_decrypt_msg) + str(second_digit_decrypt_msg) + str(third_digit_decrypt_msg)\n",
    "\n",
    "print(\"The decrypted message is {}\".format(decrypted_msg))"
   ]
  },
  {
   "cell_type": "markdown",
   "id": "44b91bfa-f45d-4691-b977-5ba5f919bb8e",
   "metadata": {},
   "source": [
    "### Problem Analysis\n",
    "\n",
    "- Is the encrypted message the same as the original message? Ans: No, the encrypted message is different from the original message. \n",
    "- Can you briefly describe the functionality of xor gate? What will happen when the inputs are same (or different)? Ans: The XOR (exclusive OR) gate is a digital logic gate that outputs: 1 if inputs are different (i.e., one is 0, the other is 1)\n",
    "and 0 if inputs are the same (i.e., both 0 or both 1)\n",
    "- Do you think if the adversary can know the original message without knowing the secret key? Ans: No, without the secret key, the adversary only sees the encrypted message.\n",
    "- Can the message receiver recover the original message if the secret key is given? Ans: Y\n",
    "es, XOR encryption is symmetric, meaning the same operation is used for both encryption and decryption.\n"
   ]
  },
  {
   "cell_type": "markdown",
   "id": "0f0ffc1d",
   "metadata": {},
   "source": [
    "# Problem 2: Message Encryption with RSA (5 points)\n",
    "\n",
    "A sender wants to send a message securely over an unreliable communication channel to a receiver. To do this, we use **RSA**, a widely used encryption method.  \n",
    "\n",
    "RSA works by converting a message into a number and scrambling it with a **public key**, so that only someone with the **secret key** can unscramble it.\n",
    "\n",
    "\n",
    "### RSA Algorithm Steps\n",
    "\n",
    "1. **Receiver chooses two large prime numbers** $p$ and $q$.  \n",
    "   Keep them secret.  \n",
    "\n",
    "2. **Receiver computes**  \n",
    "   - $n = p \\times q$  \n",
    "   - $φ(n) = (p − 1)(q − 1)$\n",
    "\n",
    "3. **Receiver picks an encryption exponent $e$** such that:  \n",
    "   - $1 < e < φ(n)$ \n",
    "   - $gcd(e, φ(n)) = 1$ (i.e., no common factors except 1).  \n",
    "\n",
    "4. **Public key:** $(e, n)$ known to both sender and receiver. The public key is shared openly so anyone (including sender) can use it to encrypt a message.\n",
    "\n",
    "5. **Sender encrypts message:**  \n",
    "   If the original message is $M$, then $C = (M^e) \\% n$, where `%` means the modulo operator in Python. The result $C$ is called the ciphertext — it looks like random numbers, and is what gets transmitted securely.  \n",
    "\n",
    "6. **Receiver computes the secret key $d$**, which satisfies $(d \\times e) \\% φ(n) = 1$. The private key (sometimes called the secret key) is kept hidden and is used by the receiver to decrypt messages.\n",
    "\n",
    "7. **Receiver decrypts message:**  $M = (C^d) \\% n$. The result is the decrypted message, which should be identical to the original M.\n",
    "\n",
    "\n",
    "Consider $M=65$, $p=61$, $q=53$. Choose $e=17$. Write a Python program to:  \n",
    "- Compute the public key `(e, n)`  \n",
    "- Find the secret key `d`  \n",
    "- Encrypt the message into ciphertext `C`  \n",
    "- Decrypt it back  \n",
    "- Verify that the decrypted message matches the original "
   ]
  },
  {
   "cell_type": "code",
   "execution_count": 34,
   "id": "42a03c09",
   "metadata": {},
   "outputs": [],
   "source": [
    "\n",
    "# Step 1: two prime numbers (these are kept secret by the receiver)\n",
    "p = 61\n",
    "q = 53"
   ]
  },
  {
   "cell_type": "code",
   "execution_count": 35,
   "id": "7f983f8e",
   "metadata": {},
   "outputs": [],
   "source": [
    "\n",
    "# Step 2: To compute n and φ(n)\n",
    "n = p * q  # n is part of both public and secret keys\n",
    "phi_n = (p - 1) * (q - 1)  # φ(n) is used to calculate the secret key"
   ]
  },
  {
   "cell_type": "code",
   "execution_count": 36,
   "id": "bfd54fa3",
   "metadata": {},
   "outputs": [],
   "source": [
    "\n",
    "# Step 3: Encryption exponent e\n",
    "e = 17  # e must be such that 1 < e < φ(n) and gcd(e, φ(n)) = 1\n"
   ]
  },
  {
   "cell_type": "code",
   "execution_count": 37,
   "id": "29a133bf",
   "metadata": {},
   "outputs": [
    {
     "name": "stdout",
     "output_type": "stream",
     "text": [
      "Public key (e, n): (17, 3233)\n"
     ]
    }
   ],
   "source": [
    "\n",
    "# Step 4: Generate the public key\n",
    "public_key = (e, n)\n",
    "print(\"Public key (e, n):\", public_key)"
   ]
  },
  {
   "cell_type": "code",
   "execution_count": 38,
   "id": "d20d35fe",
   "metadata": {},
   "outputs": [
    {
     "name": "stdout",
     "output_type": "stream",
     "text": [
      "Encrypted message (ciphertext): 2790\n"
     ]
    }
   ],
   "source": [
    "# Step 5: To encrypt the message\n",
    "M = 65  # The original message to be sent\n",
    "C = pow(M, e, n)  # Ciphertext: C = M^e mod n\n",
    "print(\"Encrypted message (ciphertext):\", C)\n"
   ]
  },
  {
   "cell_type": "code",
   "execution_count": 39,
   "id": "26d4bb9c",
   "metadata": {},
   "outputs": [
    {
     "name": "stdout",
     "output_type": "stream",
     "text": [
      "Secret key (d): 2753\n"
     ]
    }
   ],
   "source": [
    "# Step 6: To compute the secret key d using Extended Euclidean Algorithm\n",
    "# This finds the modular inverse of e modulo φ(n)\n",
    "def mod_inverse(e, phi):\n",
    "    def egcd(a, b):\n",
    "        if a == 0:\n",
    "            return (b, 0, 1)\n",
    "        else:\n",
    "            g, y, x = egcd(b % a, a)\n",
    "            return (g, x - (b // a) * y, y)\n",
    "    \n",
    "    g, x, y = egcd(e, phi)\n",
    "    if g != 1:\n",
    "        raise Exception('Modular inverse does not exist')\n",
    "    else:\n",
    "        return x % phi\n",
    "\n",
    "d = mod_inverse(e, phi_n)  # d is the secret key exponent\n",
    "secret_key = (d)\n",
    "print(\"Secret key (d):\", secret_key)"
   ]
  },
  {
   "cell_type": "code",
   "execution_count": 40,
   "id": "bbce0274",
   "metadata": {},
   "outputs": [
    {
     "name": "stdout",
     "output_type": "stream",
     "text": [
      "Decrypted message: 65\n"
     ]
    }
   ],
   "source": [
    "\n",
    "# Step 7: To decrypt the message\n",
    "M_decrypted = pow(C, d, n)  # M = C^d mod n\n",
    "print(\"Decrypted message:\", M_decrypted)"
   ]
  },
  {
   "cell_type": "code",
   "execution_count": 41,
   "id": "c2083555",
   "metadata": {},
   "outputs": [
    {
     "name": "stdout",
     "output_type": "stream",
     "text": [
      "Decryption successful? True\n"
     ]
    }
   ],
   "source": [
    "\n",
    "# Step 8: To verify if decryption was successful\n",
    "print(\"Decryption successful?\", M == M_decrypted)"
   ]
  }
 ],
 "metadata": {
  "kernelspec": {
   "display_name": "Python 3",
   "language": "python",
   "name": "python3"
  },
  "language_info": {
   "codemirror_mode": {
    "name": "ipython",
    "version": 3
   },
   "file_extension": ".py",
   "mimetype": "text/x-python",
   "name": "python",
   "nbconvert_exporter": "python",
   "pygments_lexer": "ipython3",
   "version": "3.11.9"
  }
 },
 "nbformat": 4,
 "nbformat_minor": 5
}
